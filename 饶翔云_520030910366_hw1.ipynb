{
 "cells": [
  {
   "cell_type": "markdown",
   "id": "6274b702-c968-4950-b0b2-84643aef4a34",
   "metadata": {},
   "source": [
    "# 小作业一： 静态博弈与纳什均衡\n",
    "\n",
    "同学们在前三节课上已经学习了完全信息静态博弈的概念，以及在博弈中的纳什均衡的存在和其求解方法。\n",
    "在这次作业中，你们将会回顾之前的知识，并用python来实现静态博弈的求解。\n",
    "## 目录\n",
    "\n",
    "本次作业主要分为以下几个部分：\n",
    "- 静态博弈的定义和回报矩阵\n",
    "- （混合）策略的回报\n",
    "- 纳什均衡的求解\n",
    "    - 规划求解法\n",
    "    - 支撑求解法\n",
    "\n",
    "## 提交说明：\n",
    "请同学们在canvas上提交，本次作业满分100分，占总成绩15%。\n",
    "\n",
    "**注意，请同学们在提交的版本中不要添加和删改notebook中的函数名，我们会根据这些实现的函数来进行评分。如有其他问题，请联系助教。**\n",
    "\n",
    "提交文件名设置为 `{姓名}_{学号}_hw1.ipynb`，如`小明_123_hw1.ipynb`.\n"
   ]
  },
  {
   "cell_type": "markdown",
   "id": "2c6ee91d-230b-4bd8-bda3-14f71d2bc119",
   "metadata": {
    "jp-MarkdownHeadingCollapsed": true,
    "tags": []
   },
   "source": [
    "## 静态博弈的定义和回报矩阵\n",
    "通过课程的学习，我们知道了一个完全信息静态博弈的数学定义如下：\n",
    "- $N$个玩家\n",
    "- 玩家们的行动集合 $\\{\\mathcal{A}_1, \\mathcal{A}_2,\\ldots, \\mathcal{A}_N\\}$\n",
    "- 玩家们的回报函数 $\\{u_i: \\mathcal{A}_1 \\times \\mathcal{A}_2 \\times \\ldots \\times \\mathcal{A}_N \\rightarrow \\mathbb{R} | i=1,2\\ldots, N \\}$\n",
    "\n",
    "### 练习一 (10分)\n",
    "基于上述信息，我们可以构造出每个玩家的回报矩阵（记为$\\mathbf{R}^i$），**请根据下面的文字描述信息，写出所有玩家的回报矩阵。**\n",
    "一个航班中的两位不同的乘客手提箱，两个手提箱的价值相同，航空公司的经理承诺会给他们最多5英镑的价值赔偿。\n",
    "但是，经理想要知道手提箱的真正价值，于是他将两个乘客分开并让他们写下他们的行李箱的价值（2到5之间的整数），并告诉他们如下规则：\n",
    "- 如果两个人给出的数字是相同的，那么他们都将得到这个数字的赔偿。\n",
    "- 如果他们两个人给出的数字是不同的, 不是一般性，我们假设 $x < y$, 那么给出$x$的乘客将获得$x+2$的补偿, 而另一个乘客将获得$x-2$的补偿。\n",
    "请将该问题建模成为一个双人静态博弈，并给出他们各自的回报矩阵（提示，是一个$4\\times 4$的矩阵）。\n",
    "**并将你的答案填入下面的矩阵之中:**"
   ]
  },
  {
   "attachments": {},
   "cell_type": "markdown",
   "id": "72828836-405b-4f23-ae16-499cea86d53f",
   "metadata": {},
   "source": [
    "$$\n",
    "\\mathbf{R}^1 = \\left[\\begin{matrix}\n",
    "2 & 4 & 4 & 4 \\\\\n",
    "0 & 3 & 5 & 5 \\\\\n",
    "0 & 1 & 4 & 5 \\\\\n",
    "0 & 1 & 2 & 5\n",
    "\\end{matrix}\\right] \n",
    "\\quad \n",
    "\\mathbf{R}^2 = \\left[\\begin{matrix}\n",
    "2 & 0 & 0 & 0 \\\\\n",
    "4 & 3 & 1 & 1 \\\\\n",
    "4 & 5 & 4 & 2 \\\\\n",
    "4 & 5 & 5 & 5\n",
    "\\end{matrix}\\right].\n",
    "$$\n",
    "$$\n",
    "r_1 = 2, r_2 = 3, r_3 = 4, r_4 = 5\n",
    "$$"
   ]
  },
  {
   "cell_type": "markdown",
   "id": "9543e2db-ba39-412f-8270-8afc47b1b524",
   "metadata": {},
   "source": [
    "## （混合）策略的回报\n",
    "现在，假设 $N=2, \\mathcal{A}_1 = \\mathcal{A}_2 = \\{1,2\\}$, 以及相应的回报矩阵为\n",
    "$$\n",
    "\\mathbf{R}^1 = \\left[\\begin{matrix}\n",
    "r^1_{11} & r^1_{12} \\\\\n",
    "r^1_{21} & r^1_{22}\n",
    "\\end{matrix}\\right] \n",
    "\\quad \n",
    "\\mathbf{R}^2 = \\left[\\begin{matrix}\n",
    "r^2_{11} & r^2_{12} \\\\\n",
    "r^2_{21} & r^2_{22}\n",
    "\\end{matrix}\\right].\n",
    "$$\n",
    "\n",
    "如果玩家一选择动作 $i$ 并且玩家二选择动作 $j$, 那么相应地双方就会得到奖励 $r^1_{ij}$ 和 $r^2_{ij}$.\n",
    "\n",
    "接着我们使用 $\\pi_1 = \\alpha\\in [0,1] $ 表示玩家一的策略, 其中 $\\alpha$ 代表他选择动作一的概率, 而 $1-\\alpha$ 是执行动作二的概率。 类似的，我们也可以用 $\\pi_2 = \\beta$ 来表示玩家二的策略。\n",
    "\n",
    "基于双方的策略 $(\\alpha, \\beta)$, 我们可以计算出双方的 **期望回报**。我们记 $V^1(\\alpha, \\beta)$ 和 $V^2(\\alpha, \\beta)$ 分别为玩家一和玩家二的在这一情况下的期望回报:\n",
    "\n",
    "$$\n",
    "\\begin{aligned} V^{1}(\\alpha, \\beta) &=\\alpha \\beta r^1_{11}+\\alpha(1-\\beta) r^1_{12}+(1-\\alpha) \\beta r^1_{21}+(1-\\alpha)(1-\\beta) r^1_{22} \\\\ &=u^1 \\alpha \\beta+\\alpha\\left(r^1_{12}-r^1_{22}\\right)+\\beta\\left(r^1_{21}-r^1_{22}\\right)+r^1_{22} \\ \\ \\ \\ (1)\\end{aligned}      \n",
    "$$  \n",
    "$$\n",
    "\\begin{aligned} V^{2}(\\alpha, \\beta) &=\\alpha \\beta r^2_{11}+\\alpha(1-\\beta) r^2_{12}+(1-\\alpha) \\beta r^2_{21}+(1-\\alpha)(1-\\beta) r^2_{22} \\\\ &=u^2 \\alpha \\beta+\\alpha\\left(r^2_{12}-r^2_{22}\\right)+\\beta\\left(r^2_{21}-r^2_{22}\\right)+r^2_{22}\\ \\ \\ \\ (2) \\end{aligned}  \n",
    "$$\n",
    "\n",
    "其中定义\n",
    "\n",
    "$$\n",
    "\\begin{aligned} u^1 &=r^1_{11}-r^1_{12}-r^1_{21}+r^1_{22} \\ \\ \\ \\ (3)\\\\  u^2 &=r^2_{11}-r^2_{12}-r^2_{21}+r^2_{22}.\\ \\ \\ (4)\\end{aligned}  \n",
    "$$\n",
    "### 练习二（10分）\n",
    "在接下来的练习中，你将要使用python代码来完成期望回报的计算（请填充下图#TODO注释的代码块）："
   ]
  },
  {
   "cell_type": "code",
   "execution_count": 8,
   "id": "9cfc5b94-dfb0-4e08-9db4-0288fb7e94e0",
   "metadata": {},
   "outputs": [
    {
     "name": "stdout",
     "output_type": "stream",
     "text": [
      "Expected payoff for agent 1: 1.1 ; agent 2: 0.09999999999999998\n"
     ]
    },
    {
     "name": "stderr",
     "output_type": "stream",
     "text": [
      "WARNING: You are using pip version 22.0.4; however, version 23.0.1 is available.\n",
      "You should consider upgrading via the 'D:\\Miniconda3\\python.exe -m pip install --upgrade pip' command.\n"
     ]
    }
   ],
   "source": [
    "! pip install -q numpy\n",
    "import numpy as np\n",
    "from copy import deepcopy\n",
    "import warnings\n",
    "warnings.filterwarnings('ignore')\n",
    "\n",
    "#  implement Eqs. (3) and (4)\n",
    "def U(payoff):    \n",
    "    ########### TODO: Compute u ###########\n",
    "    #\n",
    "    u = payoff[0][0] - payoff[0][1] - payoff[1][0] + payoff[1][1]\n",
    "    # Hello teacher, I think the formula should use subscript instead of superscript for better understanding.\n",
    "    #\n",
    "    ########### END TODO ############################\n",
    "    \n",
    "    return u\n",
    "  \n",
    "    \n",
    "# expected payoff Eqs (1) and (2)\n",
    "def V(alpha, beta, payoff):\n",
    "    ########### TODO: Compute expected payoff of given strategies alpha and beta ###########\n",
    "    #\n",
    "    v = U(payoff) * alpha * beta + alpha * (payoff[0][1] - payoff[1][1]) + beta * (payoff[1][0] - payoff[1][1]) + payoff[1][1]\n",
    "    #\n",
    "    ########### END TODO ##############################################################################\n",
    "    \n",
    "    return v\n",
    "\n",
    "\n",
    "payoff_1 = np.array([[0, 3], \n",
    "                     [1, 2]]) # Example payoff matrix for player 1\n",
    "payoff_2 = np.array([[3, 2], \n",
    "                     [0, 1]]) # Example payoff matrix for player 2\n",
    "\n",
    "pi_alpha = 0. # initial strategy for player 1\n",
    "pi_beta = 0.9 # initial strategy for player 2\n",
    "\n",
    "u_alpha = U(payoff_1)\n",
    "u_beta = U(payoff_2)\n",
    "v_1 = V(pi_alpha, pi_beta, payoff_1)\n",
    "v_2 = V(pi_alpha, pi_beta, payoff_2)\n",
    "\n",
    "print('Expected payoff for agent 1:', v_1, '; agent 2:', v_2)"
   ]
  },
  {
   "cell_type": "markdown",
   "id": "7e9ba6ad-09f3-4cea-992f-459d3a25fc74",
   "metadata": {},
   "source": [
    "#### Bonus （10分）: 使用线性代数的向量/矩阵运算完成上述期望回报的计算："
   ]
  },
  {
   "cell_type": "code",
   "execution_count": 9,
   "id": "91dc0fa1-2898-437c-9109-5ab03d22f707",
   "metadata": {},
   "outputs": [
    {
     "name": "stdout",
     "output_type": "stream",
     "text": [
      "1.1 0.09999999999999998\n",
      "Expected payoff calculated by nashpy is: [1.1 0.1]\n"
     ]
    },
    {
     "name": "stderr",
     "output_type": "stream",
     "text": [
      "WARNING: You are using pip version 22.0.4; however, version 23.0.1 is available.\n",
      "You should consider upgrading via the 'D:\\Miniconda3\\python.exe -m pip install --upgrade pip' command.\n"
     ]
    }
   ],
   "source": [
    "sigma_1 = np.array([pi_alpha, 1-pi_alpha])\n",
    "sigma_2 = np.array([pi_beta, 1-pi_beta])\n",
    "############### TODO: Use linear algebraic calculation to compute expected payoffs ################################\n",
    "#\n",
    "payoff1 = sigma_2 @ (sigma_1 @ payoff_1)\n",
    "payoff2 = sigma_2 @ (sigma_1 @ payoff_2)\n",
    "#   \n",
    "############################ END TODO #####################################\n",
    "print(payoff1, payoff2)\n",
    "\n",
    "# Use nashpy to check to result\n",
    "! pip install -q nashpy -i https://pypi.douban.com/simple/\n",
    "import nashpy as nash\n",
    "game = nash.Game(payoff_1, payoff_2)\n",
    "\n",
    "print(\"Expected payoff calculated by nashpy is:\", game[sigma_1, sigma_2])"
   ]
  },
  {
   "cell_type": "markdown",
   "id": "7910c2db-1043-46d2-8fa0-fdd74c23980a",
   "metadata": {
    "tags": []
   },
   "source": [
    "## 纳什均衡的求解\n",
    "在课程的学习中，我们学习了纳什均衡的基本求解方法，这其中比较通用的是规划求解法以及支撑集求解法。接下来，你将通过python代码来实现简单的双人零和博弈的线性规划求解以及支撑集求解法。\n",
    "\n",
    "### 规划求解法\n",
    "在这一节中我们将回顾线性规划的相关知识，并且了解如何将一个双人零和博弈建模成线性规划问题并使用求解器求解。\n",
    "#### 线性规划\n",
    "线性规划指的是求解目标函数以及约束都为线性时的优化问题。通常一个线性规划问题的数学表示为\n",
    "\n",
    "\\begin{aligned}\n",
    "\\min ~ c^\\top x \\\\\n",
    "s.t. Ax = b \\\\ \n",
    "x \\geq 0\n",
    "\\end{aligned}\n",
    "\n",
    "在这其中，矩阵$A$和向量$b$是由问题定义而确定，向量$x$是期望被求解以最小化目标值的向量。\n",
    "接下来我们将通过一个简单的例子来说明如何将一个实际问题构造成线性规划的形式并且输入到求解器中进行求解：\n",
    "> 一个农夫拥有一块大小为$L$平方公里的田地，他希望在上面种植小麦、大麦或者两种都种植一部分。农夫拥有的原材料是有限的，只有$K$公斤肥料，$P$公斤杀虫剂。对于小麦的种植来说，每平方公里需要$F_1$ 千克肥料以及$P_1$ 千克杀虫剂。类似的，大麦的需求分别是$F_2$ 和 $P_2$。记$S_1$为每平方公里小麦的售价而$S_2$为每平方公里大麦的售价。农夫需要找出一个满足条件的种植分配方法来最大化自己的种植收益。\n",
    "\n",
    "这是一个典型的线性规划问题，假设$x_1$分别是$x_2$小麦和大麦的种植面积。上述问题可以被表述为：\n",
    "\\begin{aligned}\n",
    "\\max \\quad S_1\\cdot x_1+S_2\\cdot x_2 & \\quad & \\text{(最大化收益)}\\\\\n",
    "\\text{Subject to} \\quad x_1 + x_2 & \\leq L \\quad & \\text{(总体种植面积约束)} \\\\\n",
    "F_1\\cdot x_1+F_2\\cdot x_2 & \\leq F \\quad & \\text{(肥料约束)} \\\\\n",
    "P_1\\cdot x_1 + P_2\\cdot x_2 & \\leq P \\quad & \\text{(杀虫剂约束)} \\\\\n",
    "x_1\\geq 0, x_2 & \\geq 0 \\quad & \\text{(正确性（非负）约束)}\n",
    "\\end{aligned}"
   ]
  },
  {
   "cell_type": "markdown",
   "id": "07fdd172-465f-4d55-88a3-17a52f7ef87d",
   "metadata": {
    "tags": []
   },
   "source": [
    "##### 只用`cvxopt`求解上述问题\n",
    "\n",
    "定 $L = 50, S_1 = 1.5, S_2 = 2.5, F_1 = 1.0, P_1 = 2.0, F_2 = 4.0, P_2 = 3.0, F = 100, P = 100$, 我们使用`cvxopt`作为该线性规划问题的[求解器](https://en.wikipedia.org/wiki/List_of_optimization_software). 你需要将先前列出的目标和约束转换成一个`cvxopt`支持的标准矩阵格式，然后将约束矩阵输入进去得到最优解。\n",
    "\n",
    "- [`cvxopt`的参考文档](https://cvxopt.org/userguide/coneprog.html#linear-programming)\n",
    "\n",
    "提示: `cvxopt` 的标准输入形式是最小化问题. \n",
    "一些转换规则：\n",
    "- $\\max c^\\top x \\iff \\min -c^T x$\n",
    "- $Gx + s = h, s \\geq 0 \\iff Gx \\leq h$\n",
    "- $x \\geq 0 \\iff -x \\leq 0$"
   ]
  },
  {
   "cell_type": "markdown",
   "id": "1deb8014-b841-4531-a872-f06af01c1132",
   "metadata": {},
   "source": [
    "### 练习三 （20分）\n",
    "请根据上述例子，实现这一问题的线性规划求解。"
   ]
  },
  {
   "cell_type": "code",
   "execution_count": 10,
   "id": "4b566ab1-1058-493c-8961-d0cf67dcf050",
   "metadata": {},
   "outputs": [
    {
     "name": "stdout",
     "output_type": "stream",
     "text": [
      "Start solving ...\n",
      "     pcost       dcost       gap    pres   dres   k/t\n",
      " 0: -7.5000e+01 -3.2500e+02  6e+01  1e-02  3e+00  1e+00\n",
      " 1: -7.7709e+01 -1.0203e+02  5e+00  1e-03  3e-01  1e-01\n",
      " 2: -7.9948e+01 -8.0391e+01  9e-02  3e-05  5e-03  5e-03\n",
      " 3: -7.9999e+01 -8.0004e+01  9e-04  3e-07  5e-05  5e-05\n",
      " 4: -8.0000e+01 -8.0000e+01  9e-06  3e-09  5e-07  5e-07\n",
      " 5: -8.0000e+01 -8.0000e+01  9e-08  3e-11  5e-09  5e-09\n",
      "Optimal solution found.\n",
      "The solution is:\n",
      " [ 2.00e+01]\n",
      "[ 2.00e+01]\n",
      "\n"
     ]
    },
    {
     "name": "stderr",
     "output_type": "stream",
     "text": [
      "WARNING: You are using pip version 22.0.4; however, version 23.0.1 is available.\n",
      "You should consider upgrading via the 'D:\\Miniconda3\\python.exe -m pip install --upgrade pip' command.\n"
     ]
    }
   ],
   "source": [
    "import numpy as np\n",
    "! pip install -q cvxopt -i https://pypi.douban.com/simple/\n",
    "from cvxopt import matrix, solvers\n",
    "\n",
    "L = 50.\n",
    "S_1, S_2 = 1.5, 2.5\n",
    "F_1, P_1 = 1.0, 2.0\n",
    "F_2, P_2 = 4.0, 3.0\n",
    "F = 100.\n",
    "P = 100.\n",
    "\n",
    "################## TODO: Compute c, G and h for cvxopt (please refere to the above link for the examples of using cxopt) ###\n",
    "#\n",
    "#          Write your code here\n",
    "# HINT:\n",
    "#     for objective,construct min c^Tx\n",
    "#     for inequality constraints, construct Gx <= h with G of shape (M+N, N+1)\n",
    "c = matrix([-S_1, -S_2]) #\\min -c^T x\n",
    "G = matrix([[F_1, P_1, -1., 0.], [F_2, P_2, 0., -1.]]) # Gx <= h\n",
    "h = matrix([F, P, 0., 0.])# Gx <= h\n",
    "################### END TODO ######################################\n",
    "\n",
    "\n",
    "\n",
    "print(\"Start solving ...\")\n",
    "sol = solvers.lp(c, G, h)\n",
    "\n",
    "print(\"The solution is:\\n\", sol['x'])"
   ]
  },
  {
   "cell_type": "markdown",
   "id": "17725be4-8509-4084-9380-68d709316399",
   "metadata": {},
   "source": [
    "##### 双人零和博弈的线性规划问题建模\n",
    "假设零和博弈的回报矩阵分别是 $R$ 和 $-R$, 玩家的策略记为 $p \\in \\Delta_{\\mathcal{A}},q \\in \\Delta_{\\mathcal{B}}$, $\\Delta_{\\mathcal{A}}=\\{\\mu \\in \\mathbb{R}^{|\\mathcal{A}|} | \\sum_{i=1}^{|\\mathcal{A}|} \\mu_i =1, \\mu_i \\ge 0\\}$ 为在动作集合$\\mathcal{A}$上的混合策略空间。\n",
    "\n",
    "在之前的课程中我们知道可以将一个双人零和博弈问题转化为一个 min-max 问题：\n",
    "\n",
    "$$\\min_{q \\in \\Delta_\\mathcal{B}} \\max_{p \\in \\Delta_\\mathcal{A}} p^T R q$$\n",
    "\n",
    "进而可以将其转化为两个对偶线性规划的求解问题：\n",
    "\n",
    "\\begin{align}\n",
    "\\min \\quad & w \\\\ \n",
    "s.t. \\quad & \\sum_j R_{ij}q_j \\leq w, \\forall i = 1,\\cdots, |\\mathcal{A}| \\\\\n",
    "& \\sum_j q_j = 1 \\\\ \n",
    "& q_j \\geq 0, \\forall j = 1,\\cdots, |\\mathcal{B}|\n",
    "\\end{align}\n"
   ]
  },
  {
   "cell_type": "markdown",
   "id": "6081c364-6967-4f3b-bf83-c5a1d55531e5",
   "metadata": {},
   "source": [
    "### 练习四 （20分）\n",
    "请按照上述求解过程，实现双人零和博弈的求解"
   ]
  },
  {
   "cell_type": "code",
   "execution_count": 11,
   "id": "86e990f3-104d-49ae-9d17-83e2c92f5f8f",
   "metadata": {},
   "outputs": [
    {
     "name": "stdout",
     "output_type": "stream",
     "text": [
      "For game Rock Paper Scissors\n",
      "     pcost       dcost       gap    pres   dres   k/t\n",
      " 0:  0.0000e+00 -0.0000e+00  8e+00  2e+00  3e+00  1e+00\n",
      " 1: -2.4691e-02  2.4691e-02  4e-02  1e-01  1e-01  9e-02\n",
      " 2: -2.0022e-04  2.0022e-04  6e-04  1e-03  2e-03  9e-04\n",
      " 3: -2.0010e-06  2.0010e-06  6e-06  1e-05  2e-05  9e-06\n",
      " 4: -2.0010e-08  2.0010e-08  6e-08  1e-07  2e-07  9e-08\n",
      " 5: -2.0010e-10  2.0010e-10  6e-10  1e-09  2e-09  9e-10\n",
      "Optimal solution found.\n",
      "The nash policy for player 2 in this game is:\n",
      " [ 3.33e-01]\n",
      "[ 3.33e-01]\n",
      "[ 3.33e-01]\n",
      "\n",
      "The expected payoff is: -2.0009830567980356e-10\n",
      "--------------------------------------------------\n",
      "For game Matching Pennies\n",
      "     pcost       dcost       gap    pres   dres   k/t\n",
      " 0:  0.0000e+00 -0.0000e+00  6e+00  2e+00  2e+00  1e+00\n",
      " 1: -3.3473e-02  3.3473e-02  9e-03  8e-02  9e-02  1e-01\n",
      " 2: -3.2671e-04  3.2671e-04  1e-04  8e-04  1e-03  1e-03\n",
      " 3: -3.2668e-06  3.2668e-06  1e-06  8e-06  1e-05  1e-05\n",
      " 4: -3.2668e-08  3.2668e-08  1e-08  8e-08  1e-07  1e-07\n",
      "Optimal solution found.\n",
      "The nash policy for player 2 in this game is:\n",
      " [ 5.00e-01]\n",
      "[ 5.00e-01]\n",
      "\n",
      "The expected payoff is: -3.266830680755816e-08\n"
     ]
    }
   ],
   "source": [
    "import numpy as np\n",
    "from cvxopt import matrix, solvers\n",
    "\n",
    "\n",
    "def solve(R: np.ndarray):\n",
    "    M, N = R.shape\n",
    "    ########### TODO: Compute c, G, h, A, b based on the payoff matrix R ############\n",
    "    #\n",
    "    # Write your code here.\n",
    "    #\n",
    "    # HINT: variables: x = [q_1, ..., q_N, w]^T of shape (N+1, 1)  \n",
    "    #     for objective,construct min c^Tx\n",
    "    #     for equality constraints, construct Ax^T = b with A of shape (1, N+1)\n",
    "    #     for inequality constraints, construct Gx <= h with G of shape (M+N, N+1)\n",
    "    #\n",
    "    # for objective\n",
    "    c = matrix(np.zeros((N+1, 1))) \n",
    "    c[N, 0] = 1. # c^T x = w\n",
    "\n",
    "    # for equality constraints\n",
    "    A = np.ones((1, N+1))\n",
    "    A[0, N] = 0.\n",
    "    A = matrix(A)\n",
    "    b = np.ones((1, 1))\n",
    "    b = matrix(b)\n",
    "\n",
    "    # for inequality constraints\n",
    "    G = np.zeros((M+N, N+1))\n",
    "    G[:M, :N] = R\n",
    "    G[:M, N] = -1. * np.ones((M))\n",
    "    G[M:, :N] = -1. * np.identity(N)\n",
    "    G = matrix(G)\n",
    "    h = matrix(np.zeros((M+N, 1)))\n",
    "    ########################## END TODO #############################################\n",
    "    \n",
    "    \n",
    "    \n",
    "    sol = solvers.lp(c, G, h, A, b)\n",
    "    \n",
    "    print(\"The nash policy for player 2 in this game is:\\n\", sol['x'][:-1])    # q_1, ..., q_N\n",
    "    print(\"The expected payoff is:\", sol['x'][-1])     # w\n",
    "\n",
    "\n",
    "print(\"For game Rock Paper Scissors\")\n",
    "R_1 = np.array([[0, -1, 1], [1, 0, -1], [-1, 1, 0]], dtype=np.float)\n",
    "solve(R_1)\n",
    "\n",
    "print(\"-\"*50)\n",
    "print(\"For game Matching Pennies\")\n",
    "\n",
    "R_2 = np.array([[-1, 1], [1, -1]], dtype=np.float)\n",
    "solve(R_2)"
   ]
  },
  {
   "cell_type": "markdown",
   "id": "c47f1b8d-538d-4452-a8d1-8956c7261439",
   "metadata": {},
   "source": [
    "### 支撑求解法\n",
    "在之前的课程中我们已经学习了使用支撑求解法来求解静态博弈问题的纳什均衡，接下来我们会进行必要的回顾，然后使用python实现该算法。\n",
    "#### 算法回顾\n",
    "支撑求解法的基本思想在于\n",
    "- 通过不断地枚举纳什均衡中可能的支撑策略集合\n",
    "- 然后求解出符合最优应对条件的策略支撑分布\n",
    "- 接着验证该分布是否是纳什均衡。\n",
    "\n",
    "### 练习五 （40分）\n",
    "请根据上述算法描述实现代码"
   ]
  },
  {
   "cell_type": "markdown",
   "id": "43e8b04d-b15d-43b8-9df4-2b64619f0efa",
   "metadata": {
    "tags": []
   },
   "source": [
    "##### 支撑集枚举\n",
    "下述代码是生成枚举集合，提示：可以使用`python`的`itertools`库进行组合的枚举"
   ]
  },
  {
   "cell_type": "code",
   "execution_count": 12,
   "id": "af88bbb5-012b-446c-9c29-a3406468c80e",
   "metadata": {},
   "outputs": [
    {
     "name": "stdout",
     "output_type": "stream",
     "text": [
      "Test enumeration correctness for M=2, N=2 ...\n",
      "enumerate to (0,) (0,)\n",
      "enumerate to (0,) (1,)\n",
      "enumerate to (0,) (0, 1)\n",
      "enumerate to (1,) (0,)\n",
      "enumerate to (1,) (1,)\n",
      "enumerate to (1,) (0, 1)\n",
      "enumerate to (0, 1) (0,)\n",
      "enumerate to (0, 1) (1,)\n",
      "enumerate to (0, 1) (0, 1)\n"
     ]
    }
   ],
   "source": [
    "def nontrivial_potential_support_pairs(M: int, N: int):\n",
    "    \"\"\"A generator for the potential support pairs' indices\n",
    "    M: the number of action of player 1\n",
    "    N: the number of action of player 2\n",
    "    \"\"\"\n",
    "    ############# TODO: implement the generator for the potential support pairs ##############\n",
    "    #\n",
    "    #            Write your code here\n",
    "    #\n",
    "    #    HINT:\n",
    "    #        your code should not \"return\" something\n",
    "    #        but use \"yield\"\n",
    "    import itertools\n",
    "    for i in range(1, M+1):\n",
    "        sp1 = itertools.combinations(range(M), i)\n",
    "        for sp_1 in sp1:\n",
    "            for j in range(1, N+1):\n",
    "                sp2 = itertools.combinations(range(N), j)\n",
    "                for sp_2 in sp2:\n",
    "                    yield sp_1, sp_2\n",
    "    ##################### END TODO ##########################################\n",
    "    \n",
    "    \n",
    "    \n",
    "\n",
    "    \n",
    "print(\"Test enumeration correctness for M=2, N=2 ...\")\n",
    "for sp1, sp2 in nontrivial_potential_support_pairs(2, 2):\n",
    "    print(\"enumerate to\", sp1, sp2)\n",
    "\n",
    "############## Correct output is like this ################\n",
    "# Test enumeration correctness for M=2, N=2 ...\n",
    "# enumerate to (0,) (0,)\n",
    "# enumerate to (0,) (1,)\n",
    "# enumerate to (0,) (0, 1)\n",
    "# enumerate to (1,) (0,)\n",
    "# enumerate to (1,) (1,)\n",
    "# enumerate to (1,) (0, 1)\n",
    "# enumerate to (0, 1) (0,)\n",
    "# enumerate to (0, 1) (1,)\n",
    "# enumerate to (0, 1) (0, 1)"
   ]
  },
  {
   "cell_type": "markdown",
   "id": "d8ea5fb1-e535-4232-bf0b-bece130167c4",
   "metadata": {},
   "source": [
    "##### 生成符合最优应对条件的支撑集策略分布\n",
    "接下来我们要根据枚举得到的支撑集，计算出符合条件的分布，具体细节请参考第二次课程。\n",
    "我们首先实现一个计算分布的工具函数："
   ]
  },
  {
   "cell_type": "code",
   "execution_count": 13,
   "id": "0d249fb8-81d5-4bc1-b56d-d387fc926d40",
   "metadata": {},
   "outputs": [],
   "source": [
    "def solve(payoff, support1, support2):\n",
    "    \"\"\"Solve the best response condition according to supports\n",
    "    \n",
    "    In this function, your need to create the nash best response condition as\n",
    "    a linear system, i.e. solve x s.t. Mx = b\n",
    "    \"\"\"\n",
    "    ################ TODO: create constraints to ##############################################\n",
    "    ########  ensure differences between pairs of pure strategies are the same ################\n",
    "    #\n",
    "    # Write your code here\n",
    "    #\n",
    "    M = np.zeros((len(support1), payoff.shape[1]))\n",
    "    for i in range(len(support1)):\n",
    "        M[i, :] = payoff[support1[i], :] - payoff[support1[i - 1], :]\n",
    "    M = M[:-1, :]\n",
    "    ################# END TODO #########################\n",
    "    \n",
    "    \n",
    "    \n",
    "    ######################## TODO: constraints to ###########################\n",
    "    ################## ensure the nonsupported columns are of zero prob #########\n",
    "    #\n",
    "    # Write your code here\n",
    "    #\n",
    "    for i in range(payoff.shape[1]):\n",
    "        if i not in support2:\n",
    "            tool = []\n",
    "            for j in range(payoff.shape[1]):\n",
    "                tool.append(int(i == j))\n",
    "            M = np.append(M, np.array([tool]), axis=0)\n",
    "    #########################################################################\n",
    "    \n",
    "       \n",
    "    \n",
    "    ######################## TODO: constraints to ###########################\n",
    "    ################## ensure the probs of all supports sum to one #########\n",
    "    #\n",
    "    # Write your code here\n",
    "    #\n",
    "    M = np.append(M, np.ones((1, M.shape[1])), axis=0)\n",
    "    b = np.append(np.zeros(len(M) - 1), [1])\n",
    "    #########################################################################\n",
    "    \n",
    "     \n",
    "    # Then we use np.linalg to solve the linear system\n",
    "    prob = np.linalg.solve(M, b)\n",
    "    return prob"
   ]
  },
  {
   "cell_type": "markdown",
   "id": "4255deb2-0ba1-46b2-98f7-ceeff4a2c370",
   "metadata": {},
   "source": [
    "通过上述求解线性问题的函数我们来枚举生成每个支撑集的策略。"
   ]
  },
  {
   "cell_type": "code",
   "execution_count": 14,
   "id": "038c13f9-be4f-4050-9828-961735b924be",
   "metadata": {},
   "outputs": [],
   "source": [
    "def compute_support_strategy(A, B, support1, support2):\n",
    "    \"\"\"A generator for computing support strategies \n",
    "    according to best response condition\n",
    "    A: payoff of player 1 \n",
    "    B: payoff of player 2\n",
    "    support1: support of player 1 \n",
    "    support2: support of player 2\n",
    "    \"\"\"\n",
    "    \n",
    "    ############# TODO: solve the problem to get each player's strategy ##############\n",
    "    #\n",
    "    # Write your Code here\n",
    "    #\n",
    "    #    HINT:\n",
    "    #        you'll need to compute two strategies using the above defined solve() functoin\n",
    "    #    and name them as \"s1\" and \"s2\"\n",
    "    #\n",
    "    s1 = solve(B.T, support2, support1)\n",
    "    s2 = solve(A, support1, support2)\n",
    "    ############################### END TODO #############################################\n",
    "\n",
    "    return s1, s2\n"
   ]
  },
  {
   "cell_type": "markdown",
   "id": "783e351a-58b2-43f2-a5c5-8149fe858dbf",
   "metadata": {},
   "source": [
    "接着我们需要检查计算出来的策略关于给定的支撑集的合法性，即，检查非支撑的元素的概率质量是否为0，反之亦然。"
   ]
  },
  {
   "cell_type": "code",
   "execution_count": 15,
   "id": "0614c5e9-dbaa-41f8-8f25-8b4edbce5c65",
   "metadata": {},
   "outputs": [],
   "source": [
    "def check_support(strategy, support, tol: float=1e-16):\n",
    "    \"\"\" Check whether the strategy obeys support\n",
    "    tol: tolerance for float number check, \n",
    "        i.e to check a > 0 --> a > tol, vice versa\n",
    "    \"\"\"\n",
    "    ################## TODO: check the correctness of a strategy given support #########\n",
    "    #\n",
    "    # Write your code here\n",
    "    #\n",
    "    for i in support:\n",
    "        if strategy[i] < tol:\n",
    "            return False\n",
    "    return True\n",
    "    #####################################################################################\n",
    "    "
   ]
  },
  {
   "cell_type": "markdown",
   "id": "5da3a2a7-f6cc-4d79-a5a1-43e5e2806476",
   "metadata": {},
   "source": [
    "对于合法的支撑策略，接下来我们要验证其是否为纳什均衡"
   ]
  },
  {
   "cell_type": "code",
   "execution_count": 16,
   "id": "c5d0b0f6-eb42-44f2-9048-671807396fe8",
   "metadata": {},
   "outputs": [],
   "source": [
    "def is_ne(pi1, pi2, support1, support2, A, B):\n",
    "    \"\"\"Test if current pair is nash equilibrium\n",
    "    i.e. this is a pair of best response.\n",
    "    \"\"\"\n",
    "    \n",
    "    payoffs1 = np.dot(A, pi2)\n",
    "    payoffs2 = np.dot(B.T, pi1)\n",
    "    \n",
    "    support_payoffs1 = payoffs1[np.array(support1)]\n",
    "    support_payoffs2 = payoffs2[np.array(support2)]\n",
    "    \n",
    "    return (\n",
    "        payoffs1.max() == support_payoffs1.max() \n",
    "        and payoffs2.max() == support_payoffs2.max()\n",
    "    )"
   ]
  },
  {
   "cell_type": "markdown",
   "id": "fa4adbfe-b323-4af5-b6e2-b059ddf33749",
   "metadata": {},
   "source": [
    "有了这些工具函数之后，我们就可以开始实现纳什均衡的支撑集求解算法了。"
   ]
  },
  {
   "cell_type": "code",
   "execution_count": 17,
   "id": "659e6f79-e65b-40c2-a4f0-fbbcaa8a1be5",
   "metadata": {},
   "outputs": [
    {
     "name": "stdout",
     "output_type": "stream",
     "text": [
      "Nash equiliria: [(array([1., 0., 0.]), array([1., 0.])), (array([0.8, 0.2, 0. ]), array([0.66666667, 0.33333333])), (array([0.        , 0.33333333, 0.66666667]), array([0.33333333, 0.66666667]))]\n",
      "\n",
      "Output of nashpy: [(array([1., 0., 0.]), array([1., 0.])), (array([0.8, 0.2, 0. ]), array([0.66666667, 0.33333333])), (array([0.        , 0.33333333, 0.66666667]), array([0.33333333, 0.66666667]))]\n"
     ]
    }
   ],
   "source": [
    "def support_enumeration(A, B, tol=1e-16):\n",
    "    M, N = A.shape\n",
    "    for support1, support2 in nontrivial_potential_support_pairs(M, N):\n",
    "        try:\n",
    "            s1, s2 = compute_support_strategy(A, B, support1, support2)\n",
    "        except np.linalg.LinAlgError:\n",
    "            # since some cases have too many constraints than variables\n",
    "            continue\n",
    "        if check_support(s1, support1, tol) and check_support(s2, support2, tol) \\\n",
    "            and is_ne(s1, s2, support1, support2, A, B):\n",
    "            yield s1, s2\n",
    "\n",
    "\n",
    "A = np.array([[3, 3], [2, 5], [0, 6]])\n",
    "B = np.array([[3, 2], [2, 6], [3, 1]])\n",
    "\n",
    "print(\"Nash equiliria:\", list(support_enumeration(A, B)))\n",
    "\n",
    "# Test your answer with nashpy\n",
    "import nashpy as nash\n",
    "game = nash.Game(A, B)\n",
    "\n",
    "print(\"\\nOutput of nashpy:\" ,list(game.support_enumeration()))"
   ]
  }
 ],
 "metadata": {
  "kernelspec": {
   "display_name": "Python 3 (ipykernel)",
   "language": "python",
   "name": "python3"
  },
  "language_info": {
   "codemirror_mode": {
    "name": "ipython",
    "version": 3
   },
   "file_extension": ".py",
   "mimetype": "text/x-python",
   "name": "python",
   "nbconvert_exporter": "python",
   "pygments_lexer": "ipython3",
   "version": "3.9.7"
  }
 },
 "nbformat": 4,
 "nbformat_minor": 5
}
